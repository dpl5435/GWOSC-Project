{
  "cells": [
    {
      "cell_type": "markdown",
      "metadata": {
        "Collapsed": "false",
        "editable": true,
        "id": "R_adEak0Q8NT",
        "tags": []
      },
      "source": [
        "<span style=\"float: left;padding: 1.3em\">![logo](https://github.com/gw-odw/odw/blob/main/Tutorials/logo.png?raw=1)</span>\n",
        "\n",
        "# Gravitational Wave Open Data Workshop\n",
        "\n",
        "## Tutorial 1.1: Discovering open data from GW observatories\n",
        "\n",
        "This notebook describes how to discover what data are available from the [Gravitational-Wave Open Science Center (GWOSC)](https://gwosc.org).\n",
        "    \n",
        "View this tutorial on [Google Colaboratory](https://colab.research.google.com/github/gw-odw/odw/blob/main/Tutorials/Day_1/Tuto_1.1_Discovering_Open_Data.ipynb) or launch [mybinder](https://mybinder.org/v2/gh/gw-odw/odw/HEAD).\n"
      ]
    },
    {
      "cell_type": "markdown",
      "metadata": {
        "Collapsed": "false",
        "id": "W6msjCJVQ8NV"
      },
      "source": [
        "## Installation (execute only if running on a cloud platform, like Google Colab, or if you haven't done the installation already!)\n",
        "\n",
        "First, we need to install the software, which we do following the instruction in [Software Setup Instructions](../../setup.md):"
      ]
    },
    {
      "cell_type": "markdown",
      "metadata": {
        "id": "zFUxAj4kDn4j"
      },
      "source": [
        "> ⚠️ **Warning**: restart the runtime after running the cell below.\n",
        ">\n",
        "> To do so, click \"Runtime\" in the menu and choose \"Restart and run all\"."
      ]
    },
    {
      "cell_type": "code",
      "execution_count": 1,
      "metadata": {
        "id": "UfOUtgNXDn4k"
      },
      "outputs": [],
      "source": [
        "# -- Uncomment following line if running in Google Colab\n",
        "! pip install -q 'gwosc==0.7.1'"
      ]
    },
    {
      "cell_type": "markdown",
      "metadata": {
        "id": "eX7YAZzrDn4k"
      },
      "source": [
        "## Initialization"
      ]
    },
    {
      "cell_type": "code",
      "execution_count": 2,
      "metadata": {
        "colab": {
          "base_uri": "https://localhost:8080/"
        },
        "id": "3VoFROwTDn4k",
        "outputId": "814ca8ad-a3ff-4e8f-b628-279eb67346c7"
      },
      "outputs": [
        {
          "output_type": "stream",
          "name": "stdout",
          "text": [
            "0.7.1\n"
          ]
        }
      ],
      "source": [
        "#check the version of the package gwosc you are using\n",
        "import gwosc\n",
        "print(gwosc.__version__)"
      ]
    },
    {
      "cell_type": "markdown",
      "metadata": {
        "id": "t4HEQcJ3Dn4k"
      },
      "source": [
        "The version you get should be 0.7.1. If it's not, check that you have followed all the steps in [Software Setup Instructions](../../setup.md)."
      ]
    },
    {
      "cell_type": "markdown",
      "metadata": {
        "id": "p3rMOcXbDn4k"
      },
      "source": [
        "## A brief presentation of GWOSC and Open Data"
      ]
    },
    {
      "cell_type": "markdown",
      "metadata": {
        "id": "bAMLo_-cDn4k"
      },
      "source": [
        "Open Science is the movement to make scientific research accessible to everyone and to increase scientific collaboration. Open Science includes different movements and practices such as open data, open source software and infrastructures, open access to publications and citizen science and more. See the [wikipedia page](https://en.wikipedia.org/wiki/Open_science) for more information."
      ]
    },
    {
      "cell_type": "markdown",
      "metadata": {
        "id": "NonE9d19Dn4k"
      },
      "source": [
        "Data from the LIGO-Virgo-KAGRA (LVK) collaboration are made available to the public via the [Gravitational-Wave Open Science Center (GWOSC)](https://gwosc.org), as described in the [LIGO Data Management Plan](https://dcc.ligo.org/LIGO-M1000066/public)."
      ]
    },
    {
      "cell_type": "markdown",
      "metadata": {
        "id": "t67w1MKyDn4k"
      },
      "source": [
        "For a more detailed presentation of the data, including conventions on file and channel names and details about the preparation of the data, see the paper \"_Open Data from the Third Observing Run of LIGO, Virgo, KAGRA, and GEO_\" ([link](https://iopscience.iop.org/article/10.3847/1538-4365/acdc9f))."
      ]
    },
    {
      "cell_type": "markdown",
      "metadata": {
        "id": "407XkBNHDn4k"
      },
      "source": [
        "The GWOSC also provides links to software used to analyze LVK data and organize training sessions (you are participating in it!)."
      ]
    },
    {
      "cell_type": "markdown",
      "metadata": {
        "Collapsed": "false",
        "id": "F3tmmQ-hQ8Nu"
      },
      "source": [
        "## Querying for event information\n",
        "\n",
        "The module `gwosc.datasets` provides tools for searching for datasets, including events, catalogs and full run strain data releases.\n",
        "\n",
        "\n",
        "For example, we can search for events in the [GWTC-1 catalog](https://gwosc.org/eventapi/html/GWTC-1-confident/), the catalog of all events from the O1 and O2 observing runs. A list of available catalogs can be seen in the [Event Portal](https://gwosc.org/eventapi)"
      ]
    },
    {
      "cell_type": "code",
      "execution_count": 3,
      "metadata": {
        "colab": {
          "base_uri": "https://localhost:8080/"
        },
        "id": "4Sujc1t7Dn4k",
        "outputId": "13397186-cb7b-4dca-9e74-561615da5aee"
      },
      "outputs": [
        {
          "output_type": "stream",
          "name": "stdout",
          "text": [
            "List of available catalogs\n",
            "['GWTC', 'GWTC-1-confident', 'GWTC-1-marginal', 'GWTC-2', 'GWTC-2.1-auxiliary', 'GWTC-2.1-confident', 'GWTC-2.1-marginal', 'GWTC-3-confident', 'GWTC-3-marginal', 'IAS-O3a', 'Initial_LIGO_Virgo', 'O1_O2-Preliminary', 'O3_Discovery_Papers', 'O3_IMBH_marginal', 'O4_Discovery_Papers']\n"
          ]
        }
      ],
      "source": [
        "from gwosc.datasets import find_datasets\n",
        "from gwosc import datasets\n",
        "\n",
        "#-- List all available catalogs\n",
        "print(\"List of available catalogs\")\n",
        "print(find_datasets(type=\"catalog\"))"
      ]
    },
    {
      "cell_type": "code",
      "execution_count": 4,
      "metadata": {
        "colab": {
          "base_uri": "https://localhost:8080/"
        },
        "id": "vFY7St35Dn4k",
        "outputId": "ce9da181-e4cd-47d7-bcd4-ee3cb28f2587"
      },
      "outputs": [
        {
          "output_type": "stream",
          "name": "stdout",
          "text": [
            "GWTC-1 events: ['GW150914-v3', 'GW151012-v3', 'GW151226-v2', 'GW170104-v2', 'GW170608-v3', 'GW170729-v1', 'GW170809-v1', 'GW170814-v3', 'GW170817-v3', 'GW170818-v1', 'GW170823-v1']\n",
            "\n"
          ]
        }
      ],
      "source": [
        "#-- Print all the GW events from the GWTC-1 catalog\n",
        "gwtc1 = datasets.find_datasets(type='events', catalog='GWTC-1-confident')\n",
        "print('GWTC-1 events:', gwtc1)\n",
        "print(\"\")"
      ]
    },
    {
      "cell_type": "markdown",
      "metadata": {
        "id": "eoRozZM9Dn4k"
      },
      "source": [
        "Note that the event name is of the type _GWyymmdd-vx_ where _x_ is the last available version for the data set provided by GWOSC."
      ]
    },
    {
      "cell_type": "code",
      "execution_count": 5,
      "metadata": {
        "colab": {
          "base_uri": "https://localhost:8080/"
        },
        "id": "yDm2n2v2Dn4k",
        "outputId": "779091eb-19c4-4a36-ef45-cd1bce0ac729"
      },
      "outputs": [
        {
          "output_type": "stream",
          "name": "stdout",
          "text": [
            "Large data sets: ['BKGW170608_16KHZ_R1', 'O1', 'O1_16KHZ', 'O2_16KHZ_R1', 'O2_4KHZ_R1', 'O3GK_16KHZ_R1', 'O3GK_4KHZ_R1', 'O3a_16KHZ_R1', 'O3a_4KHZ_R1', 'O3b_16KHZ_R1', 'O3b_4KHZ_R1', 'S5', 'S6']\n"
          ]
        }
      ],
      "source": [
        "#-- Print all the large strain data sets from LIGO/Virgo/KAGRA observing runs\n",
        "runs = find_datasets(type='run')\n",
        "print('Large data sets:', runs)"
      ]
    },
    {
      "cell_type": "markdown",
      "metadata": {
        "id": "jASnSehpDn4k"
      },
      "source": [
        "_Attention: Note that the most recent observation runs, e.g. O2, are labeled with names containing the name of the run (e.g. O2), the sampling rate (4 or 16 kHz) and the release version (e.g. R1). This means that for O2 you have two labels 'O2_4KHZ_R1' and 'O2_16KHZ_R1', depending which is the desired sampling rate_"
      ]
    },
    {
      "cell_type": "markdown",
      "metadata": {
        "Collapsed": "false",
        "id": "D9_tRXpMQ8N8"
      },
      "source": [
        "`datasets.find_datasets` also accepts a `segment` and `detector` keyword to narrow results based on GPS time and detector:"
      ]
    },
    {
      "cell_type": "code",
      "execution_count": 6,
      "metadata": {
        "Collapsed": "false",
        "colab": {
          "base_uri": "https://localhost:8080/"
        },
        "id": "XZTniqwHQ8N-",
        "outputId": "eddf22bd-34f9-4009-f963-7688593535fa"
      },
      "outputs": [
        {
          "output_type": "stream",
          "name": "stdout",
          "text": [
            "['GW170104-v2', 'GW170608-v3', 'GW170729-v1', 'GW170809-v1', 'GW170814-v3', 'GW170817-v3', 'GW170818-v1', 'GW170823-v1']\n"
          ]
        }
      ],
      "source": [
        "#-- Detector and segments keywords limit search result\n",
        "print(datasets.find_datasets(type='events', catalog='GWTC-1-confident', detector=\"L1\", segment=(1164556817, 1187733618)))"
      ]
    },
    {
      "cell_type": "markdown",
      "metadata": {
        "Collapsed": "false",
        "id": "7pnAItOJQ8OC"
      },
      "source": [
        "Using `gwosc.datasets.event_gps`, we can query for the GPS time of a specific event (it works also without the version number):"
      ]
    },
    {
      "cell_type": "code",
      "execution_count": 7,
      "metadata": {
        "Collapsed": "false",
        "colab": {
          "base_uri": "https://localhost:8080/"
        },
        "id": "tdr8c15_Q8OD",
        "outputId": "588326b2-0ed4-420d-c6a4-c9f95b2097bc"
      },
      "outputs": [
        {
          "output_type": "stream",
          "name": "stdout",
          "text": [
            "1240215503.0\n"
          ]
        }
      ],
      "source": [
        "from gwosc.datasets import event_gps\n",
        "gps = event_gps('GW190425')\n",
        "print(gps)"
      ]
    },
    {
      "cell_type": "markdown",
      "metadata": {
        "Collapsed": "false",
        "id": "hKvQhYAOQ8OG"
      },
      "source": [
        "<div class=\"alert alert-info\">All of these times are returned in the GPS time system, which counts the number of seconds that have elapsed since the start of the GPS epoch at midnight (00:00) on January 6th 1980. GWOSC provides a <a href=\"https://gwosc.org/gps/\">GPS time converter</a> you can use to translate into datetime, or you can use <a href=\"https://gwpy.github.io/docs/stable/time/\"><code>gwpy.time</code></a>.</div>"
      ]
    },
    {
      "cell_type": "code",
      "execution_count": 8,
      "metadata": {
        "colab": {
          "base_uri": "https://localhost:8080/"
        },
        "id": "8i3UnGQcDn4l",
        "outputId": "6aff69e7-8397-4fc8-cb17-0e10bf871f6b"
      },
      "outputs": [
        {
          "output_type": "stream",
          "name": "stdout",
          "text": [
            "GW190425\n"
          ]
        }
      ],
      "source": [
        "# You can do also the vice-versa\n",
        "from gwosc.datasets import event_at_gps\n",
        "print(datasets.event_at_gps(1240215503))"
      ]
    },
    {
      "cell_type": "markdown",
      "metadata": {
        "id": "mmaHHAoJDn4l"
      },
      "source": [
        "Note that the method `event_at_gps` looks for events found within 1 seconds of the given GPS time. If no events is found it will give an error."
      ]
    },
    {
      "cell_type": "markdown",
      "metadata": {
        "Collapsed": "false",
        "id": "RXVyJsDDQ8OH"
      },
      "source": [
        "We can query for the GPS time interval for an observing run:"
      ]
    },
    {
      "cell_type": "code",
      "execution_count": 9,
      "metadata": {
        "Collapsed": "false",
        "colab": {
          "base_uri": "https://localhost:8080/"
        },
        "id": "QYsQSPNJQ8OK",
        "outputId": "8ad645c7-9681-4e70-9ccf-9e373a777b1e"
      },
      "outputs": [
        {
          "output_type": "stream",
          "name": "stdout",
          "text": [
            "(1126051217, 1137254417)\n"
          ]
        }
      ],
      "source": [
        "from gwosc.datasets import run_segment\n",
        "print(run_segment('O1'))"
      ]
    },
    {
      "cell_type": "code",
      "execution_count": 10,
      "metadata": {
        "colab": {
          "base_uri": "https://localhost:8080/"
        },
        "id": "sg83DGSODn4l",
        "outputId": "c9b3d19e-88ca-4f8e-b8e2-1fbe05873b16"
      },
      "outputs": [
        {
          "output_type": "stream",
          "name": "stdout",
          "text": [
            "O3a_4KHZ_R1\n"
          ]
        }
      ],
      "source": [
        "# and vice-versa also in this case\n",
        "from gwosc.datasets import run_at_gps\n",
        "print(run_at_gps(1240215503))"
      ]
    },
    {
      "cell_type": "markdown",
      "metadata": {
        "id": "Lb_RDz4TDn4l"
      },
      "source": [
        "Now we can use what we have learned with `run_segment` and `find_datasets` to see only the confident events in O1:"
      ]
    },
    {
      "cell_type": "code",
      "execution_count": 11,
      "metadata": {
        "colab": {
          "base_uri": "https://localhost:8080/"
        },
        "id": "bm0DdLDZDn4l",
        "outputId": "333fa31d-ce16-4470-fe90-b5ee5f6eeb79"
      },
      "outputs": [
        {
          "output_type": "stream",
          "name": "stdout",
          "text": [
            "['GW150914-v3', 'GW151012-v3', 'GW151226-v2']\n"
          ]
        }
      ],
      "source": [
        "O1_events = datasets.find_datasets(type='events', catalog='GWTC-1-confident', segment=run_segment('O1'))\n",
        "print(O1_events)"
      ]
    },
    {
      "cell_type": "markdown",
      "metadata": {
        "Collapsed": "false",
        "id": "ACFu7w4_Q8OO"
      },
      "source": [
        "## Querying for data files\n",
        "\n",
        "The `gwosc.locate` module provides a function to find the URLs of data files associated with a given dataset.\n",
        "\n",
        "For event datasets, one can get the list of URLs using only the event name:"
      ]
    },
    {
      "cell_type": "code",
      "execution_count": 12,
      "metadata": {
        "Collapsed": "false",
        "colab": {
          "base_uri": "https://localhost:8080/"
        },
        "id": "uMb1bsBNQ8OQ",
        "outputId": "69ddf15d-063e-492f-c14c-356bed2ee566"
      },
      "outputs": [
        {
          "output_type": "stream",
          "name": "stdout",
          "text": [
            "['https://gwosc.org/eventapi/json/GWTC-1-confident/GW150914/v3/H-H1_GWOSC_4KHZ_R1-1126259447-32.hdf5', 'https://gwosc.org/eventapi/json/GWTC-1-confident/GW150914/v3/H-H1_GWOSC_4KHZ_R1-1126257415-4096.hdf5', 'https://gwosc.org/eventapi/json/GWTC-1-confident/GW150914/v3/L-L1_GWOSC_4KHZ_R1-1126259447-32.hdf5', 'https://gwosc.org/eventapi/json/GWTC-1-confident/GW150914/v3/L-L1_GWOSC_4KHZ_R1-1126257415-4096.hdf5']\n"
          ]
        }
      ],
      "source": [
        "from gwosc.locate import get_event_urls\n",
        "urls = get_event_urls('GW150914')\n",
        "print(urls)"
      ]
    },
    {
      "cell_type": "markdown",
      "metadata": {
        "Collapsed": "false",
        "id": "19XV79-XQ8OV"
      },
      "source": [
        "By default, this function returns all of the files associated with a given event, which isn't particularly helpful. However, we can filter on any of these by using keyword arguments, for example to get the URL for the 32-second file for the LIGO-Livingston detector:"
      ]
    },
    {
      "cell_type": "code",
      "execution_count": 13,
      "metadata": {
        "Collapsed": "false",
        "colab": {
          "base_uri": "https://localhost:8080/"
        },
        "id": "H7MfuRbPQ8OW",
        "outputId": "f1c4a419-b995-44af-9cc7-15c7bde69bed"
      },
      "outputs": [
        {
          "output_type": "stream",
          "name": "stdout",
          "text": [
            "['https://gwosc.org/eventapi/json/GWTC-1-confident/GW150914/v3/L-L1_GWOSC_4KHZ_R1-1126259447-32.hdf5']\n"
          ]
        }
      ],
      "source": [
        "urls = get_event_urls('GW150914', duration=32, detector='L1')\n",
        "print(urls)"
      ]
    },
    {
      "cell_type": "markdown",
      "metadata": {
        "id": "zqVntCKlDn4l"
      },
      "source": [
        "##  Query filtered by merger parameters\n",
        "The `query_events` module of `gwosc.datasets` allows to get a list of events filtered by some parameters, similar to what is done by the `Query` function of the [event portal](https://gwosc.org/eventapi/html/query/). A list of available parameters can be found [here](https://gwosc.readthedocs.io/en/stable/reference/gwosc.datasets.query_events.html) or using `query_events?`.\n",
        "\n",
        "Let's see how to use this module to find which events have been detected with a network signal to noise ratio (SNR) between 25 and 30:"
      ]
    },
    {
      "cell_type": "code",
      "execution_count": 14,
      "metadata": {
        "colab": {
          "base_uri": "https://localhost:8080/"
        },
        "id": "i17I4p_KDn4l",
        "outputId": "9305be8d-6d70-46c1-e3df-817ec01077d8"
      },
      "outputs": [
        {
          "output_type": "stream",
          "name": "stdout",
          "text": [
            "['GW200129_065458-v1', 'GW190814-v1', 'GW190814_211039-v3', 'GW190521_074359-v2', 'GW150914-v3']\n"
          ]
        }
      ],
      "source": [
        "from gwosc.datasets import query_events\n",
        "selection = query_events(select=[\"25 <= network-matched-filter-snr <= 30\"])\n",
        "#this is equivalent to\n",
        "#query_events(select=[\"network-matched-filter-snr <= 30\", \"network-matched-filter-snr>= 25\"])\n",
        "print(selection)"
      ]
    },
    {
      "cell_type": "markdown",
      "metadata": {
        "id": "_OU8Id0aDn4l"
      },
      "source": [
        "Note that this module will give the list of **all available versions** for all the events that have the required parameters. For example, in this query the event GW190814 is listed twice because 2 versions of that event satisfy the request of SNR between 25 and 30."
      ]
    },
    {
      "cell_type": "markdown",
      "metadata": {
        "Collapsed": "false",
        "id": "r_YLBpR0Q8Oe"
      },
      "source": [
        "# Exercises\n",
        "\n",
        "Now that you've seen examples of how to query for dataset information using the `gwosc` package, please try and complete the following exercises using that interface:\n",
        "\n",
        "- How many months did O2 last? (Hint: check the output of _find_datasets(type='run')_ to find the correct label to use)\n",
        "- How many GWTC-3-confident events were detected during O3b?\n",
        "- How many events have been detected with a network signal to noise ratio (SNR) >= 30?"
      ]
    },
    {
      "cell_type": "code",
      "execution_count": 16,
      "metadata": {
        "colab": {
          "base_uri": "https://localhost:8080/"
        },
        "id": "nmsx0oU3Dn4l",
        "outputId": "941bf0bc-ba81-4a31-b93e-8103be778d91"
      },
      "outputs": [
        {
          "output_type": "stream",
          "name": "stdout",
          "text": [
            "1164556817 1187733618\n",
            "number of months: 8.941667052469136\n"
          ]
        }
      ],
      "source": [
        "name = 'O2_16KHZ_R1'\n",
        "\n",
        "start, stop = run_segment(name)\n",
        "print(start, stop)\n",
        "\n",
        "time = stop - start\n",
        "months= time/(3600*24*30)\n",
        "print('number of months:', months)\n"
      ]
    },
    {
      "cell_type": "code",
      "source": [
        "from gwosc import datasets\n",
        "from gwosc.datasets import run_segment\n",
        "GWTC3_events = datasets.find_datasets(type='events', catalog='GWTC-3-confident', segment=run_segment('O3b_16KHZ_R1'))\n",
        "print(len(GWTC3_events))"
      ],
      "metadata": {
        "colab": {
          "base_uri": "https://localhost:8080/"
        },
        "id": "k_3d3M_hEZg6",
        "outputId": "6e288b14-a00b-40e6-f423-d4f921fe9476"
      },
      "execution_count": 17,
      "outputs": [
        {
          "output_type": "stream",
          "name": "stdout",
          "text": [
            "35\n"
          ]
        }
      ]
    },
    {
      "cell_type": "code",
      "source": [
        "from gwosc.datasets import query_events\n",
        "selection = query_events(select=[\"network-matched-filter-snr >= 30\"])\n",
        "print(selection)"
      ],
      "metadata": {
        "colab": {
          "base_uri": "https://localhost:8080/"
        },
        "id": "wXa_c2YgEZQr",
        "outputId": "0b81fb8f-717d-4a1f-eae0-fa2dfed8ba4c"
      },
      "execution_count": 18,
      "outputs": [
        {
          "output_type": "stream",
          "name": "stdout",
          "text": [
            "['GW170817-v3']\n"
          ]
        }
      ]
    }
  ],
  "metadata": {
    "colab": {
      "name": "Tuto 1.1 Discovering Open Data.ipynb",
      "provenance": []
    },
    "kernelspec": {
      "display_name": "Python 3 (ipykernel)",
      "language": "python",
      "name": "python3"
    },
    "language_info": {
      "codemirror_mode": {
        "name": "ipython",
        "version": 3
      },
      "file_extension": ".py",
      "mimetype": "text/x-python",
      "name": "python",
      "nbconvert_exporter": "python",
      "pygments_lexer": "ipython3",
      "version": "3.11.11"
    }
  },
  "nbformat": 4,
  "nbformat_minor": 0
}