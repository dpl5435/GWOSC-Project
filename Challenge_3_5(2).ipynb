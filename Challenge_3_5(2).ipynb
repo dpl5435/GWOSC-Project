{
  "nbformat": 4,
  "nbformat_minor": 0,
  "metadata": {
    "colab": {
      "provenance": [],
      "authorship_tag": "ABX9TyPYimXY4FsSILtku/ahXnSw",
      "include_colab_link": true
    },
    "kernelspec": {
      "name": "python3",
      "display_name": "Python 3"
    },
    "language_info": {
      "name": "python"
    }
  },
  "cells": [
    {
      "cell_type": "markdown",
      "metadata": {
        "id": "view-in-github",
        "colab_type": "text"
      },
      "source": [
        "<a href=\"https://colab.research.google.com/github/dpl5435/GWOSC-Project/blob/main/Challenge_3_5(2).ipynb\" target=\"_parent\"><img src=\"https://colab.research.google.com/assets/colab-badge.svg\" alt=\"Open In Colab\"/></a>"
      ]
    },
    {
      "cell_type": "code",
      "source": [
        "import warnings\n",
        "warnings.filterwarnings(\"ignore\", \"Wswiglal-redir-stdio\")"
      ],
      "metadata": {
        "id": "0bOlpobsi7FB"
      },
      "execution_count": null,
      "outputs": []
    },
    {
      "cell_type": "code",
      "source": [
        "! pip install -q lalsuite\n",
        "! pip install -q gwpy\n",
        "! pip install -q pycbc\n",
        "! pip install -q bilby\n",
        "# -- Click \"restart runtime\" in the runtime menu\n",
        "\n",
        "# -- download data\n",
        "! wget https://dcc.ligo.org/public/0187/G2300818/001/challenge3.gwf\n",
        "\n",
        "\n",
        "# -- for gwpy\n",
        "from gwpy.timeseries import TimeSeries\n",
        "gwpy_strain = TimeSeries.read('challenge3.gwf', channel=\"H1:CHALLENGE3\")\n",
        "gwpy_strain_L1 = TimeSeries.read('challenge3.gwf', channel=\"L1:CHALLENGE3\")\n",
        "\n",
        "\n",
        "# -- for pycbc\n",
        "from pycbc import frame\n",
        "pycbc_strain = frame.read_frame('challenge3.gwf', 'H1:CHALLENGE3')\n",
        "pycbc_strain_L1 = frame.read_frame('challenge3.gwf', 'L1:CHALLENGE3')\n",
        "from pycbc import frame\n",
        "pycbc_strain = frame.read_frame('challenge3.gwf', 'H1:CHALLENGE3')\n",
        "pycbc_strain_L1 = frame.read_frame('challenge3.gwf', 'L1:CHALLENGE3')"
      ],
      "metadata": {
        "colab": {
          "base_uri": "https://localhost:8080/"
        },
        "id": "bgXLzk7aimEF",
        "outputId": "ed43d4c3-cacb-4c32-bd35-484a30f78a71"
      },
      "execution_count": null,
      "outputs": [
        {
          "output_type": "stream",
          "name": "stdout",
          "text": [
            "--2025-06-01 17:25:04--  https://dcc.ligo.org/public/0187/G2300818/001/challenge3.gwf\n",
            "Resolving dcc.ligo.org (dcc.ligo.org)... 131.215.125.133\n",
            "Connecting to dcc.ligo.org (dcc.ligo.org)|131.215.125.133|:443... connected.\n",
            "HTTP request sent, awaiting response... 200 OK\n",
            "Length: 256814830 (245M)\n",
            "Saving to: ‘challenge3.gwf.1’\n",
            "\n",
            "challenge3.gwf.1     55%[==========>         ] 135.24M  16.2MB/s    eta 8s     "
          ]
        }
      ]
    },
    {
      "cell_type": "code",
      "execution_count": null,
      "metadata": {
        "id": "chywpE_5anXO"
      },
      "outputs": [],
      "source": [
        "import bilby\n",
        "\n",
        "sampling_rate = 2048  # needs to be high enough for the signals found in steps above\n",
        "duration = 8  # needs to be long enough for the signals found in steps above\n",
        "start_time = 100  # needs to be set so that the segment defined by [start_time,start_time+duration] contains the signal\n",
        "\n",
        "interferometers = bilby.gw.detector.InterferometerList([])\n",
        "for ifo_name in ['H1', 'L1']:\n",
        "    ifo = bilby.gw.detector.get_empty_interferometer(ifo_name)\n",
        "    ifo.set_strain_data_from_frame_file('challenge3.gwf', sampling_rate, duration, start_time=start_time, channel=f'{ifo_name}:CHALLENGE3')\n",
        "    interferometers.append(ifo)\n"
      ]
    },
    {
      "cell_type": "code",
      "source": [
        "import matplotlib.pyplot as plt\n",
        "from pycbc import frame\n",
        "from pycbc.filter import resample_to_delta_t, highpass\n",
        "\n",
        "strain = pycbc_strain\n",
        "\n",
        "\n",
        "# Remove the low frequency content and downsample the data to 2048Hz\n",
        "strain = highpass(strain, 15.0)\n",
        "strain = resample_to_delta_t(strain, 1.0/2048)\n",
        "\n",
        "plt.plot(strain.sample_times, strain)\n",
        "plt.xlabel('Time (s)')\n",
        "plt.show()"
      ],
      "metadata": {
        "id": "3BmcGCp8kU8A"
      },
      "execution_count": null,
      "outputs": []
    },
    {
      "cell_type": "code",
      "source": [
        "# Remove 2 seconds of data from both the beginning and end\n",
        "conditioned = strain.crop(2, 2)\n",
        "\n",
        "plt.plot(conditioned.sample_times, conditioned)\n",
        "plt.xlabel('Time (s)')\n",
        "plt.show()"
      ],
      "metadata": {
        "id": "WIR_mbyklTgq"
      },
      "execution_count": null,
      "outputs": []
    },
    {
      "cell_type": "code",
      "source": [
        "from pycbc.psd import interpolate, inverse_spectrum_truncation\n",
        "# Estimate the power spectral density\n",
        "\n",
        "# We use 4 second samples of our time series in Welch method.\n",
        "psd = conditioned.psd(4)\n",
        "\n",
        "# Now that we have the psd we need to interpolate it to match our data\n",
        "# and then limit the filter length of 1 / PSD. After this, we can\n",
        "# directly use this PSD to filter the data in a controlled manner\n",
        "psd = interpolate(psd, conditioned.delta_f)\n",
        "\n",
        "# 1/PSD will now act as a filter with an effective length of 4 seconds\n",
        "# Since the data has been highpassed above 15 Hz, and will have low values\n",
        "# below this we need to inform the function to not include frequencies\n",
        "# below this frequency.\n",
        "psd = inverse_spectrum_truncation(psd, int(4 * conditioned.sample_rate),\n",
        "                                  low_frequency_cutoff=15)"
      ],
      "metadata": {
        "id": "V29V54PilWis"
      },
      "execution_count": null,
      "outputs": []
    },
    {
      "cell_type": "code",
      "source": [
        "from pycbc.waveform import get_td_waveform\n",
        "\n",
        "m=20 # Solar masses\n",
        "hp, hc = get_td_waveform(approximant=\"SEOBNRv4_opt\",\n",
        "                     mass1=m,\n",
        "                     mass2=m,\n",
        "                     delta_t=conditioned.delta_t,\n",
        "                     f_lower=20)\n",
        "\n",
        "# Resize the vector to match our data\n",
        "hp.resize(len(conditioned))"
      ],
      "metadata": {
        "id": "sc31Ym1TleII"
      },
      "execution_count": null,
      "outputs": []
    },
    {
      "cell_type": "code",
      "source": [
        "# Let's plot the signal before and after shifting\n",
        "\n",
        "plt.figure()\n",
        "plt.title('Before shifting')\n",
        "plt.plot(hp.sample_times, hp)\n",
        "plt.xlabel('Time (s)')\n",
        "plt.ylabel('Strain')\n",
        "\n",
        "template = hp.cyclic_time_shift(hp.start_time)\n",
        "\n",
        "plt.figure()\n",
        "plt.title('After shifting')\n",
        "plt.plot(template.sample_times, template)\n",
        "plt.xlabel('Time (s)')\n",
        "plt.ylabel('Strain')\n",
        "plt.show()"
      ],
      "metadata": {
        "id": "L6U5CuFylqco"
      },
      "execution_count": null,
      "outputs": []
    },
    {
      "cell_type": "code",
      "source": [
        "from pycbc.filter import matched_filter\n",
        "import numpy\n",
        "\n",
        "snr = matched_filter(template, conditioned,\n",
        "                     psd=psd, low_frequency_cutoff=20)\n",
        "\n",
        "# Remove time corrupted by the template filter and the psd filter\n",
        "# We remove 4 seconds at the beginning and end for the PSD filtering\n",
        "# And we remove 4 additional seconds at the beginning to account for\n",
        "# the template length (this is somewhat generous for\n",
        "# so short a template). A longer signal such as from a BNS, would\n",
        "# require much more padding at the beginning of the vector.\n",
        "snr = snr.crop(4 + 4, 4)\n",
        "\n",
        "# Why are we taking an abs() here?\n",
        "# The `matched_filter` function actually returns a 'complex' SNR.\n",
        "# What that means is that the real portion corresponds to the SNR\n",
        "# associated with directly filtering the template with the data.\n",
        "# The imaginary portion corresponds to filtering with a template that\n",
        "# is 90 degrees out of phase. Since the phase of a signal may be\n",
        "# anything, we choose to maximize over the phase of the signal.\n",
        "plt.figure(figsize=[10, 4])\n",
        "plt.plot(snr.sample_times, abs(snr))\n",
        "plt.ylabel('Signal-to-noise')\n",
        "plt.xlabel('Time (s)')\n",
        "plt.show()\n",
        "\n",
        "peak = abs(snr).numpy().argmax()\n",
        "snrp = snr[peak]\n",
        "time = snr.sample_times[peak]\n",
        "\n",
        "print(\"We found a signal at {}s with SNR {}\".format(time, abs(snrp)))"
      ],
      "metadata": {
        "id": "HuknnqGnlrVb"
      },
      "execution_count": null,
      "outputs": []
    },
    {
      "cell_type": "code",
      "source": [
        "from pycbc.filter import sigma\n",
        "# The time, amplitude, and phase of the SNR peak tell us how to align\n",
        "# our proposed signal with the data.\n",
        "\n",
        "# Shift the template to the peak time\n",
        "dt = time - conditioned.start_time\n",
        "aligned = template.cyclic_time_shift(dt)\n",
        "\n",
        "# scale the template so that it would have SNR 1 in this data\n",
        "aligned /= sigma(aligned, psd=psd, low_frequency_cutoff=20.0)\n",
        "\n",
        "# Scale the template amplitude and phase to the peak value\n",
        "aligned = (aligned.to_frequencyseries() * snrp).to_timeseries()\n",
        "aligned.start_time = conditioned.start_time"
      ],
      "metadata": {
        "id": "xBLtTujRl46b"
      },
      "execution_count": null,
      "outputs": []
    },
    {
      "cell_type": "code",
      "source": [
        "# We do it this way so that we can whiten both the template and the data\n",
        "white_data = (conditioned.to_frequencyseries() / psd**0.5).to_timeseries()\n",
        "white_template = (aligned.to_frequencyseries() / psd**0.5).to_timeseries()\n",
        "\n",
        "white_data = white_data.highpass_fir(30., 512).lowpass_fir(300, 512)\n",
        "white_template = white_template.highpass_fir(30, 512).lowpass_fir(300, 512)\n",
        "\n",
        "# Select the time around the merger\n",
        "white_data = white_data.time_slice(time-.2, time+.1)\n",
        "white_template = white_template.time_slice(time-.2,time+.1)\n",
        "\n",
        "plt.figure(figsize=[15, 3])\n",
        "plt.plot(white_data.sample_times, white_data, label=\"Data\")\n",
        "plt.plot(white_template.sample_times, white_template, label=\"Template\")\n",
        "plt.legend()\n",
        "plt.show()"
      ],
      "metadata": {
        "id": "kw0FUULAmUDJ"
      },
      "execution_count": null,
      "outputs": []
    },
    {
      "cell_type": "code",
      "source": [
        "subtracted = conditioned - aligned\n",
        "\n",
        "# Plot the original data and the subtracted signal data\n",
        "\n",
        "for data, title in [(conditioned, 'Original H1 Data'),\n",
        "                    (subtracted, 'Signal Subtracted from H1 Data')]:\n",
        "\n",
        "    t, f, p = data.whiten(4, 4).qtransform(.001, logfsteps=100, qrange=(8, 8), frange=(20, 512))\n",
        "    plt.figure(figsize=[15, 3])\n",
        "    plt.title(title)\n",
        "    plt.pcolormesh(t, f, p**0.5, vmin=1, vmax=6, shading='auto')\n",
        "    plt.yscale('log')\n",
        "    plt.xlabel('Time (s)')\n",
        "    plt.ylabel('Frequency (Hz)')\n",
        "    plt.xlim(time - 2,time + 1)\n",
        "    plt.show()"
      ],
      "metadata": {
        "id": "EPSiFUK7mWgc"
      },
      "execution_count": null,
      "outputs": []
    }
  ]
}