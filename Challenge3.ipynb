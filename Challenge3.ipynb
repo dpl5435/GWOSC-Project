{
  "nbformat": 4,
  "nbformat_minor": 0,
  "metadata": {
    "colab": {
      "provenance": [],
      "authorship_tag": "ABX9TyNrz6JVV3LzkSih9x3Pm8h4",
      "include_colab_link": true
    },
    "kernelspec": {
      "name": "python3",
      "display_name": "Python 3"
    },
    "language_info": {
      "name": "python"
    }
  },
  "cells": [
    {
      "cell_type": "markdown",
      "metadata": {
        "id": "view-in-github",
        "colab_type": "text"
      },
      "source": [
        "<a href=\"https://colab.research.google.com/github/dpl5435/GWOSC-Project/blob/main/Challenge3.ipynb\" target=\"_parent\"><img src=\"https://colab.research.google.com/assets/colab-badge.svg\" alt=\"Open In Colab\"/></a>"
      ]
    },
    {
      "cell_type": "code",
      "source": [
        "import warnings\n",
        "warnings.filterwarnings(\"ignore\", \"Wswiglal-redir-stdio\")"
      ],
      "metadata": {
        "id": "0bOlpobsi7FB"
      },
      "execution_count": 1,
      "outputs": []
    },
    {
      "cell_type": "code",
      "source": [
        "! pip install -q lalsuite\n",
        "! pip install -q gwpy\n",
        "! pip install -q pycbc\n",
        "! pip install -q bilby\n",
        "# -- Click \"restart runtime\" in the runtime menu\n",
        "\n",
        "# -- download data\n",
        "! wget https://dcc.ligo.org/public/0187/G2300818/001/challenge3.gwf\n",
        "\n",
        "# -- for gwpy\n",
        "from gwpy.timeseries import TimeSeries\n",
        "gwpy_strain = TimeSeries.read('challenge3.gwf', channel=\"H1:CHALLENGE3\")\n",
        "\n",
        "# -- for pycbc\n",
        "from pycbc import frame\n",
        "pycbc_strain = frame.read_frame('challenge3.gwf', 'H1:CHALLENGE3')"
      ],
      "metadata": {
        "colab": {
          "base_uri": "https://localhost:8080/"
        },
        "id": "bgXLzk7aimEF",
        "outputId": "848a6981-d5c7-4e9c-f10d-5089815187d6"
      },
      "execution_count": 2,
      "outputs": [
        {
          "output_type": "stream",
          "name": "stdout",
          "text": [
            "--2025-05-30 00:20:28--  https://dcc.ligo.org/public/0187/G2300818/001/challenge3.gwf\n",
            "Resolving dcc.ligo.org (dcc.ligo.org)... 131.215.125.133\n",
            "Connecting to dcc.ligo.org (dcc.ligo.org)|131.215.125.133|:443... connected.\n",
            "HTTP request sent, awaiting response... 200 OK\n",
            "Length: 256814830 (245M)\n",
            "Saving to: ‘challenge3.gwf’\n",
            "\n",
            "challenge3.gwf      100%[===================>] 244.92M  36.4MB/s    in 7.5s    \n",
            "\n",
            "2025-05-30 00:20:35 (32.8 MB/s) - ‘challenge3.gwf’ saved [256814830/256814830]\n",
            "\n"
          ]
        }
      ]
    },
    {
      "cell_type": "code",
      "execution_count": 3,
      "metadata": {
        "colab": {
          "base_uri": "https://localhost:8080/"
        },
        "id": "chywpE_5anXO",
        "outputId": "549cdc94-5b93-452a-b135-a14a73d60660"
      },
      "outputs": [
        {
          "output_type": "stream",
          "name": "stderr",
          "text": [
            "00:21 bilby INFO    : Reading data from frame file challenge3.gwf\n",
            "00:21 bilby INFO    : Successfully loaded H1:CHALLENGE3.\n",
            "00:21 bilby INFO    : Reading data from frame file challenge3.gwf\n",
            "00:21 bilby INFO    : Successfully loaded L1:CHALLENGE3.\n"
          ]
        }
      ],
      "source": [
        "import bilby\n",
        "\n",
        "sampling_rate = 2048  # needs to be high enough for the signals found in steps above\n",
        "duration = 8  # needs to be long enough for the signals found in steps above\n",
        "start_time = 100  # needs to be set so that the segment defined by [start_time,start_time+duration] contains the signal\n",
        "\n",
        "interferometers = bilby.gw.detector.InterferometerList([])\n",
        "for ifo_name in ['H1', 'L1']:\n",
        "    ifo = bilby.gw.detector.get_empty_interferometer(ifo_name)\n",
        "    ifo.set_strain_data_from_frame_file('challenge3.gwf', sampling_rate, duration, start_time=start_time, channel=f'{ifo_name}:CHALLENGE3')\n",
        "    interferometers.append(ifo)\n"
      ]
    }
  ]
}